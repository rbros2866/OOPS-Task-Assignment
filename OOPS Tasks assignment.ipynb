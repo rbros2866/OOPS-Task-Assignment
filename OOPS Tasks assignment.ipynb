{
 "cells": [
  {
   "cell_type": "markdown",
   "id": "1b515c7c",
   "metadata": {},
   "source": [
    "Q1. Create a vehicle class with an init method having instance variables as name_of_vehicle, max_speed\n",
    "and average_of_vehicle."
   ]
  },
  {
   "cell_type": "code",
   "execution_count": 2,
   "id": "d2d0c2cb",
   "metadata": {},
   "outputs": [],
   "source": [
    "class Vehicle:\n",
    "    def __init__(self, name_of_vehicle, max_speed, average_of_vehicle):\n",
    "        self.name_of_vehicle = name_of_vehicle\n",
    "        self.max_speed = max_speed\n",
    "        self.average_of_vehicle = average_of_vehicle\n"
   ]
  },
  {
   "cell_type": "markdown",
   "id": "c9cd297e",
   "metadata": {},
   "source": [
    "Q2. Create a child class car from the vehicle class created in Que 1, which will inherit the vehicle class.\n",
    "Create a method named seating_capacity which takes capacity as an argument and returns the name of\n",
    "the vehicle and its seating capacity."
   ]
  },
  {
   "cell_type": "code",
   "execution_count": 6,
   "id": "c5f18852",
   "metadata": {},
   "outputs": [],
   "source": [
    "class Car(Vehicle):\n",
    "    def seating_capacity(self, capacity):\n",
    "        return f\"The {self.name_of_vehicle} has a seating capacity of {capacity} people.\"\n"
   ]
  },
  {
   "cell_type": "markdown",
   "id": "c535360c",
   "metadata": {},
   "source": [
    "Q3. What is multiple inheritance? Write a python code to demonstrate multiple inheritance."
   ]
  },
  {
   "cell_type": "markdown",
   "id": "467c688b",
   "metadata": {},
   "source": [
    "Answer:\n",
    "\n",
    "Multiple inheritance is a feature in object-oriented programming where a class can inherit attributes and methods from multiple parent classes.\n",
    "\n",
    "This means that a child class can inherit from more than one base class, allowing it to access and utilize the features of all the parent classes."
   ]
  },
  {
   "cell_type": "code",
   "execution_count": 15,
   "id": "b48dad79",
   "metadata": {},
   "outputs": [
    {
     "name": "stdout",
     "output_type": "stream",
     "text": [
      "Method 1 from Parent 1.\n",
      "Method 2 from Parent 2.\n"
     ]
    }
   ],
   "source": [
    "class Parent1:\n",
    "    def method1(self):\n",
    "        print(\"Method 1 from Parent 1.\")\n",
    "\n",
    "class Parent2:\n",
    "    def method2(self):\n",
    "        print(\"Method 2 from Parent 2.\")\n",
    "\n",
    "class Child(Parent1, Parent2):\n",
    "    pass\n",
    "\n",
    "child = Child()\n",
    "child.method1()  \n",
    "child.method2()  \n"
   ]
  },
  {
   "cell_type": "markdown",
   "id": "7886a9ee",
   "metadata": {},
   "source": [
    "Q4. What are getter and setter in python? Create a class and create a getter and a setter method in this\n",
    "class."
   ]
  },
  {
   "cell_type": "markdown",
   "id": "8f0cca04",
   "metadata": {},
   "source": [
    "Answer:\n",
    "\n",
    "In Python, getters and setters are methods used to access and modify the values of class attributes, providing a way to control the access and modification of those attributes. They are also known as accessor and mutator methods.\n",
    "\n",
    "A getter method is used to retrieve the value of an attribute, while a setter method is used to modify the value of an attribute."
   ]
  },
  {
   "cell_type": "code",
   "execution_count": 18,
   "id": "89ec93fa",
   "metadata": {},
   "outputs": [],
   "source": [
    "class Person:\n",
    "    def __init__(self, name):\n",
    "        self._name = name\n",
    "\n",
    "    def get_name(self):\n",
    "        return self._name\n",
    "\n",
    "    def set_name(self, new_name):\n",
    "        self._name = new_name\n"
   ]
  },
  {
   "cell_type": "code",
   "execution_count": 17,
   "id": "b8f799fb",
   "metadata": {},
   "outputs": [
    {
     "name": "stdout",
     "output_type": "stream",
     "text": [
      "Rahul\n",
      "Patil\n"
     ]
    }
   ],
   "source": [
    "person = Person(\"Rahul\")\n",
    "print(person.get_name()) \n",
    "person.set_name(\"Patil\")\n",
    "print(person.get_name())  "
   ]
  },
  {
   "cell_type": "markdown",
   "id": "ecee2bb9",
   "metadata": {},
   "source": [
    "Q5.What is method overriding in python? Write a python code to demonstrate method overriding."
   ]
  },
  {
   "cell_type": "markdown",
   "id": "0411397d",
   "metadata": {},
   "source": [
    "Answer:\n",
    "\n",
    "\n",
    "Method overriding is a concept in object-oriented programming where a subclass provides its own implementation of a method that is already defined in its superclass. The method in the subclass overrides the implementation of the same-named method in the superclass, allowing the subclass to customize the behavior of the method."
   ]
  },
  {
   "cell_type": "code",
   "execution_count": 26,
   "id": "7a47987e",
   "metadata": {},
   "outputs": [
    {
     "name": "stdout",
     "output_type": "stream",
     "text": [
      "Parent method.\n",
      "Child method.\n"
     ]
    }
   ],
   "source": [
    "class Parent:\n",
    "    def method(self):\n",
    "        print(\"Parent method.\")\n",
    "\n",
    "class Child(Parent):\n",
    "    def method(self):\n",
    "        print(\"Child method.\")\n",
    "parent=Parent()\n",
    "parent.method()\n",
    "\n",
    "child = Child()\n",
    "child.method() \n"
   ]
  },
  {
   "cell_type": "code",
   "execution_count": null,
   "id": "db313528",
   "metadata": {},
   "outputs": [],
   "source": []
  }
 ],
 "metadata": {
  "kernelspec": {
   "display_name": "Python 3 (ipykernel)",
   "language": "python",
   "name": "python3"
  },
  "language_info": {
   "codemirror_mode": {
    "name": "ipython",
    "version": 3
   },
   "file_extension": ".py",
   "mimetype": "text/x-python",
   "name": "python",
   "nbconvert_exporter": "python",
   "pygments_lexer": "ipython3",
   "version": "3.11.1"
  }
 },
 "nbformat": 4,
 "nbformat_minor": 5
}
